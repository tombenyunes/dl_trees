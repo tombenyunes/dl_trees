{
  "cells": [
    {
      "cell_type": "markdown",
      "metadata": {
        "id": "T1ptcM_CiGj2"
      },
      "source": [
        "# Stylegan2-ada-pytorch"
      ]
    },
    {
      "cell_type": "markdown",
      "metadata": {
        "id": "zd2p_MwDv2ji"
      },
      "source": [
        "## Setup"
      ]
    },
    {
      "cell_type": "markdown",
      "metadata": {
        "id": "oLqHshr2y-MO"
      },
      "source": [
        "#####Verify GPU and driver versions"
      ]
    },
    {
      "cell_type": "code",
      "execution_count": null,
      "metadata": {
        "id": "R7JvPMLWy95f"
      },
      "outputs": [],
      "source": [
        "!nvidia-smi #-L"
      ]
    },
    {
      "cell_type": "markdown",
      "metadata": {
        "id": "WUl3Rt0ryX7m"
      },
      "source": [
        "##### Mount Google Drive"
      ]
    },
    {
      "cell_type": "code",
      "execution_count": null,
      "metadata": {
        "id": "Ag2Bb1pPzthT"
      },
      "outputs": [],
      "source": [
        "from google.colab import drive\n",
        "drive.mount('/content/drive')"
      ]
    },
    {
      "cell_type": "markdown",
      "metadata": {
        "id": "JIHuj2eEy13f"
      },
      "source": [
        "##### Install stylegan2-ada-pytorch prerequisites"
      ]
    },
    {
      "cell_type": "code",
      "execution_count": null,
      "metadata": {
        "id": "wk9938F5ZnLd"
      },
      "outputs": [],
      "source": [
        "!pip install torch==1.9.0 torchvision==0.10.0 torchaudio==0.9.0 torchtext==0.10.0"
      ]
    },
    {
      "cell_type": "code",
      "execution_count": null,
      "metadata": {
        "id": "A8r0Ca7Hpo5F"
      },
      "outputs": [],
      "source": [
        "import torch\n",
        "torch.cuda.device_count()\n",
        "import torchvision\n",
        "!pip install click requests tqdm pyspng ninja imageio-ffmpeg==0.4.3"
      ]
    },
    {
      "cell_type": "code",
      "execution_count": null,
      "metadata": {
        "id": "M-TJKvXbZZj0"
      },
      "outputs": [],
      "source": [
        "torch.__version__"
      ]
    },
    {
      "cell_type": "markdown",
      "metadata": {
        "id": "b94le1Kh_v1k"
      },
      "source": [
        "##### Clone the repo"
      ]
    },
    {
      "cell_type": "code",
      "execution_count": null,
      "metadata": {
        "id": "najHDP7gMeFy"
      },
      "outputs": [],
      "source": [
        "!git clone https://github.com/NVlabs/stylegan2-ada-pytorch"
      ]
    },
    {
      "cell_type": "code",
      "execution_count": null,
      "metadata": {
        "id": "zRwQwWc9RNAD"
      },
      "outputs": [],
      "source": [
        "%cd /content/stylegan2-ada-pytorch"
      ]
    },
    {
      "cell_type": "code",
      "execution_count": null,
      "metadata": {
        "id": "q40qjyTy9skv"
      },
      "outputs": [],
      "source": [
        "!mkdir /content/stylegan2-ada-pytorch/datasets"
      ]
    },
    {
      "cell_type": "markdown",
      "metadata": {
        "id": "1YSqbpAdP0rh"
      },
      "source": [
        "## Set paths"
      ]
    },
    {
      "cell_type": "code",
      "execution_count": null,
      "metadata": {
        "id": "YD59Vxjz_zbB"
      },
      "outputs": [],
      "source": [
        "project_path = '/content/drive/MyDrive/_models/_gan/MaskedFinal/'\n",
        "drive_dataset_path = '/content/drive/MyDrive/_datasets/_gan/MaskedFinal/'"
      ]
    },
    {
      "cell_type": "code",
      "execution_count": null,
      "metadata": {
        "id": "rkW0RxFLo4GW"
      },
      "outputs": [],
      "source": [
        "runtime_dataset_path = '/content/stylegan2-ada-pytorch/datasets/'"
      ]
    },
    {
      "cell_type": "markdown",
      "metadata": {
        "id": "GDAf0tWzv-8J"
      },
      "source": [
        "## Dataset prep"
      ]
    },
    {
      "cell_type": "markdown",
      "metadata": {
        "id": "wD9Cb5OUIwuw"
      },
      "source": [
        "##### Unzip dataset (if required)"
      ]
    },
    {
      "cell_type": "code",
      "execution_count": null,
      "metadata": {
        "id": "_Ng56KaT72X0"
      },
      "outputs": [],
      "source": [
        "zip_path = drive_dataset_path + 'masked.zip'\n",
        "!unzip \"$zip_path\" -d /content/extracted"
      ]
    },
    {
      "cell_type": "markdown",
      "metadata": {
        "id": "CRRzr1rCPdHc"
      },
      "source": [
        "##### Crop all images to 512x512"
      ]
    },
    {
      "cell_type": "code",
      "execution_count": null,
      "metadata": {
        "id": "yckdAoWWI8Al"
      },
      "outputs": [],
      "source": [
        "import datetime\n",
        "name = 'dataset-{date:%Y-%m-%d_%H:%M:%S}'.format(date=datetime.datetime.now())\n",
        "dest = runtime_dataset_path + name + '.zip'\n",
        "\n",
        "!python dataset_tool.py --source=\"$drive_dataset_path\" --dest=\"$dest\" --width 512 --height 512"
      ]
    },
    {
      "cell_type": "markdown",
      "metadata": {
        "id": "PbHm3Uqzj4_h"
      },
      "source": [
        "##### Copy result to Google Drive"
      ]
    },
    {
      "cell_type": "code",
      "execution_count": null,
      "metadata": {
        "id": "BJA-bph7vJbj"
      },
      "outputs": [],
      "source": [
        "!cp -r \"$dest\" \"$project_path\""
      ]
    },
    {
      "cell_type": "markdown",
      "metadata": {
        "id": "HpR6A_qBAo8m"
      },
      "source": [
        "## Initial training run"
      ]
    },
    {
      "cell_type": "code",
      "execution_count": null,
      "metadata": {
        "id": "NuSkETl1V8pv"
      },
      "outputs": [],
      "source": [
        "dataset_name = 'dataset-2022-02-19_23:23:37.zip'\n",
        "data = runtime_dataset_path + dataset_name\n",
        "!python train.py --outdir=\"$project_path\" --data=\"$data\" --gpus=1 --mirror=1 --snap=5 --metrics=none"
      ]
    },
    {
      "cell_type": "markdown",
      "metadata": {
        "id": "zRG9NlIXwI7S"
      },
      "source": [
        "# Resume training"
      ]
    },
    {
      "cell_type": "markdown",
      "metadata": {
        "id": "e6RnMcgvwQer"
      },
      "source": [
        "##### Get dataset from Google Drive, set PKL file path, and resume training"
      ]
    },
    {
      "cell_type": "code",
      "execution_count": null,
      "metadata": {
        "id": "rBJ_NVMg9x7V"
      },
      "outputs": [],
      "source": [
        "dataset_name = 'dataset-2022-02-19_23:23:37.zip'\n",
        "current_dataset = project_path + dataset_name\n",
        "!cp $current_dataset /content/stylegan2-ada-pytorch/datasets/\n",
        "data = runtime_dataset_path + dataset_name"
      ]
    },
    {
      "cell_type": "code",
      "execution_count": null,
      "metadata": {
        "id": "Jzi79zpLvQqI"
      },
      "outputs": [],
      "source": [
        "pkl_file = project_path + '00004-dataset-2022-02-19_23:23:37-mirror-auto1-resumecustom/network-snapshot-000280.pkl'\n",
        "!python train.py --resume=$pkl_file --outdir=\"$project_path\" --data=\"$data\" --gpus=1 --mirror=1 --snap=5 --metrics=none"
      ]
    }
  ],
  "metadata": {
    "accelerator": "GPU",
    "colab": {
      "collapsed_sections": [],
      "machine_shape": "hm",
      "name": "TreeGAN_Uploaded.ipynb",
      "provenance": []
    },
    "kernelspec": {
      "display_name": "Python 3",
      "name": "python3"
    }
  },
  "nbformat": 4,
  "nbformat_minor": 0
}